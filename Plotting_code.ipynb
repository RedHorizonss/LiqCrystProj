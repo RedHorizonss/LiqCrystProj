{
 "cells": [
  {
   "cell_type": "code",
   "execution_count": 13,
   "metadata": {},
   "outputs": [],
   "source": [
    "import pandas as pd\n",
    "import seaborn as sns\n",
    "import matplotlib.pyplot as plt\n",
    "sns.set_style(\"whitegrid\")"
   ]
  },
  {
   "cell_type": "code",
   "execution_count": 14,
   "metadata": {},
   "outputs": [
    {
     "data": {
      "text/html": [
       "<div>\n",
       "<style scoped>\n",
       "    .dataframe tbody tr th:only-of-type {\n",
       "        vertical-align: middle;\n",
       "    }\n",
       "\n",
       "    .dataframe tbody tr th {\n",
       "        vertical-align: top;\n",
       "    }\n",
       "\n",
       "    .dataframe thead th {\n",
       "        text-align: right;\n",
       "    }\n",
       "</style>\n",
       "<table border=\"1\" class=\"dataframe\">\n",
       "  <thead>\n",
       "    <tr style=\"text-align: right;\">\n",
       "      <th></th>\n",
       "      <th>Number of MC steps</th>\n",
       "      <th>Reduced temperature</th>\n",
       "      <th>Run time (s)</th>\n",
       "    </tr>\n",
       "    <tr>\n",
       "      <th>Num of cores</th>\n",
       "      <th></th>\n",
       "      <th></th>\n",
       "      <th></th>\n",
       "    </tr>\n",
       "  </thead>\n",
       "  <tbody>\n",
       "    <tr>\n",
       "      <th>1</th>\n",
       "      <td>50</td>\n",
       "      <td>0.5</td>\n",
       "      <td>6.533444</td>\n",
       "    </tr>\n",
       "    <tr>\n",
       "      <th>2</th>\n",
       "      <td>50</td>\n",
       "      <td>0.5</td>\n",
       "      <td>5.135155</td>\n",
       "    </tr>\n",
       "    <tr>\n",
       "      <th>4</th>\n",
       "      <td>50</td>\n",
       "      <td>0.5</td>\n",
       "      <td>4.158574</td>\n",
       "    </tr>\n",
       "    <tr>\n",
       "      <th>6</th>\n",
       "      <td>50</td>\n",
       "      <td>0.5</td>\n",
       "      <td>2.179539</td>\n",
       "    </tr>\n",
       "    <tr>\n",
       "      <th>8</th>\n",
       "      <td>50</td>\n",
       "      <td>0.5</td>\n",
       "      <td>2.872191</td>\n",
       "    </tr>\n",
       "    <tr>\n",
       "      <th>10</th>\n",
       "      <td>50</td>\n",
       "      <td>0.5</td>\n",
       "      <td>2.055618</td>\n",
       "    </tr>\n",
       "    <tr>\n",
       "      <th>12</th>\n",
       "      <td>50</td>\n",
       "      <td>0.5</td>\n",
       "      <td>4.526922</td>\n",
       "    </tr>\n",
       "    <tr>\n",
       "      <th>14</th>\n",
       "      <td>50</td>\n",
       "      <td>0.5</td>\n",
       "      <td>2.133888</td>\n",
       "    </tr>\n",
       "    <tr>\n",
       "      <th>16</th>\n",
       "      <td>50</td>\n",
       "      <td>0.5</td>\n",
       "      <td>3.452793</td>\n",
       "    </tr>\n",
       "    <tr>\n",
       "      <th>18</th>\n",
       "      <td>50</td>\n",
       "      <td>0.5</td>\n",
       "      <td>2.116602</td>\n",
       "    </tr>\n",
       "    <tr>\n",
       "      <th>20</th>\n",
       "      <td>50</td>\n",
       "      <td>0.5</td>\n",
       "      <td>2.813774</td>\n",
       "    </tr>\n",
       "    <tr>\n",
       "      <th>22</th>\n",
       "      <td>50</td>\n",
       "      <td>0.5</td>\n",
       "      <td>2.085343</td>\n",
       "    </tr>\n",
       "    <tr>\n",
       "      <th>24</th>\n",
       "      <td>50</td>\n",
       "      <td>0.5</td>\n",
       "      <td>2.213795</td>\n",
       "    </tr>\n",
       "    <tr>\n",
       "      <th>28</th>\n",
       "      <td>50</td>\n",
       "      <td>0.5</td>\n",
       "      <td>1.974172</td>\n",
       "    </tr>\n",
       "  </tbody>\n",
       "</table>\n",
       "</div>"
      ],
      "text/plain": [
       "              Number of MC steps  Reduced temperature  Run time (s)\n",
       "Num of cores                                                       \n",
       "1                             50                  0.5      6.533444\n",
       "2                             50                  0.5      5.135155\n",
       "4                             50                  0.5      4.158574\n",
       "6                             50                  0.5      2.179539\n",
       "8                             50                  0.5      2.872191\n",
       "10                            50                  0.5      2.055618\n",
       "12                            50                  0.5      4.526922\n",
       "14                            50                  0.5      2.133888\n",
       "16                            50                  0.5      3.452793\n",
       "18                            50                  0.5      2.116602\n",
       "20                            50                  0.5      2.813774\n",
       "22                            50                  0.5      2.085343\n",
       "24                            50                  0.5      2.213795\n",
       "28                            50                  0.5      1.974172"
      ]
     },
     "execution_count": 14,
     "metadata": {},
     "output_type": "execute_result"
    }
   ],
   "source": [
    "MPI_df = pd.read_csv(\"MPI/timeInfo_MPI.csv\")\n",
    "avg_MPI = MPI_df.groupby(\"Num of cores\").mean()\n",
    "avg_MPI"
   ]
  },
  {
   "cell_type": "code",
   "execution_count": 15,
   "metadata": {},
   "outputs": [
    {
     "data": {
      "text/html": [
       "<div>\n",
       "<style scoped>\n",
       "    .dataframe tbody tr th:only-of-type {\n",
       "        vertical-align: middle;\n",
       "    }\n",
       "\n",
       "    .dataframe tbody tr th {\n",
       "        vertical-align: top;\n",
       "    }\n",
       "\n",
       "    .dataframe thead th {\n",
       "        text-align: right;\n",
       "    }\n",
       "</style>\n",
       "<table border=\"1\" class=\"dataframe\">\n",
       "  <thead>\n",
       "    <tr style=\"text-align: right;\">\n",
       "      <th></th>\n",
       "      <th>Number of MC steps</th>\n",
       "      <th>Reduced temperature</th>\n",
       "      <th>Run time (s)</th>\n",
       "    </tr>\n",
       "    <tr>\n",
       "      <th>Num of cores</th>\n",
       "      <th></th>\n",
       "      <th></th>\n",
       "      <th></th>\n",
       "    </tr>\n",
       "  </thead>\n",
       "  <tbody>\n",
       "    <tr>\n",
       "      <th>2</th>\n",
       "      <td>50</td>\n",
       "      <td>0.5</td>\n",
       "      <td>0.413400</td>\n",
       "    </tr>\n",
       "    <tr>\n",
       "      <th>4</th>\n",
       "      <td>50</td>\n",
       "      <td>0.5</td>\n",
       "      <td>0.089182</td>\n",
       "    </tr>\n",
       "    <tr>\n",
       "      <th>6</th>\n",
       "      <td>50</td>\n",
       "      <td>0.5</td>\n",
       "      <td>0.088691</td>\n",
       "    </tr>\n",
       "    <tr>\n",
       "      <th>8</th>\n",
       "      <td>50</td>\n",
       "      <td>0.5</td>\n",
       "      <td>0.087598</td>\n",
       "    </tr>\n",
       "    <tr>\n",
       "      <th>10</th>\n",
       "      <td>50</td>\n",
       "      <td>0.5</td>\n",
       "      <td>0.085261</td>\n",
       "    </tr>\n",
       "    <tr>\n",
       "      <th>12</th>\n",
       "      <td>50</td>\n",
       "      <td>0.5</td>\n",
       "      <td>0.081731</td>\n",
       "    </tr>\n",
       "    <tr>\n",
       "      <th>14</th>\n",
       "      <td>50</td>\n",
       "      <td>0.5</td>\n",
       "      <td>0.081429</td>\n",
       "    </tr>\n",
       "    <tr>\n",
       "      <th>16</th>\n",
       "      <td>50</td>\n",
       "      <td>0.5</td>\n",
       "      <td>0.081039</td>\n",
       "    </tr>\n",
       "    <tr>\n",
       "      <th>18</th>\n",
       "      <td>50</td>\n",
       "      <td>0.5</td>\n",
       "      <td>0.082799</td>\n",
       "    </tr>\n",
       "    <tr>\n",
       "      <th>20</th>\n",
       "      <td>50</td>\n",
       "      <td>0.5</td>\n",
       "      <td>0.083971</td>\n",
       "    </tr>\n",
       "    <tr>\n",
       "      <th>22</th>\n",
       "      <td>50</td>\n",
       "      <td>0.5</td>\n",
       "      <td>0.085854</td>\n",
       "    </tr>\n",
       "    <tr>\n",
       "      <th>24</th>\n",
       "      <td>50</td>\n",
       "      <td>0.5</td>\n",
       "      <td>0.083317</td>\n",
       "    </tr>\n",
       "    <tr>\n",
       "      <th>26</th>\n",
       "      <td>50</td>\n",
       "      <td>0.5</td>\n",
       "      <td>0.083725</td>\n",
       "    </tr>\n",
       "    <tr>\n",
       "      <th>28</th>\n",
       "      <td>50</td>\n",
       "      <td>0.5</td>\n",
       "      <td>0.084002</td>\n",
       "    </tr>\n",
       "  </tbody>\n",
       "</table>\n",
       "</div>"
      ],
      "text/plain": [
       "              Number of MC steps  Reduced temperature  Run time (s)\n",
       "Num of cores                                                       \n",
       "2                             50                  0.5      0.413400\n",
       "4                             50                  0.5      0.089182\n",
       "6                             50                  0.5      0.088691\n",
       "8                             50                  0.5      0.087598\n",
       "10                            50                  0.5      0.085261\n",
       "12                            50                  0.5      0.081731\n",
       "14                            50                  0.5      0.081429\n",
       "16                            50                  0.5      0.081039\n",
       "18                            50                  0.5      0.082799\n",
       "20                            50                  0.5      0.083971\n",
       "22                            50                  0.5      0.085854\n",
       "24                            50                  0.5      0.083317\n",
       "26                            50                  0.5      0.083725\n",
       "28                            50                  0.5      0.084002"
      ]
     },
     "execution_count": 15,
     "metadata": {},
     "output_type": "execute_result"
    }
   ],
   "source": [
    "numba_df = pd.read_csv(\"Numba/timeInfo_Numba.csv\")\n",
    "avg_numba = numba_df.groupby(\"Num of cores\").mean()\n",
    "avg_numba"
   ]
  },
  {
   "cell_type": "code",
   "execution_count": 16,
   "metadata": {},
   "outputs": [
    {
     "data": {
      "text/plain": [
       "Text(0, 0.5, 'Time taken to run the code (s)')"
      ]
     },
     "execution_count": 16,
     "metadata": {},
     "output_type": "execute_result"
    },
    {
     "data": {
      "image/png": "[encoded data removed]",
      "text/plain": [
       "<Figure size 720x432 with 1 Axes>"
      ]
     },
     "metadata": {},
     "output_type": "display_data"
    }
   ],
   "source": [
    "plt.figure(figsize=(10,6))\n",
    "plt.scatter(x= avg_MPI.index, y = avg_MPI[\"Run time (s)\"])\n",
    "plt.xlabel(\"Number of Cores Used\")\n",
    "plt.ylabel(\"Time taken to run the code (s)\")"
   ]
  },
  {
   "cell_type": "code",
   "execution_count": 17,
   "metadata": {},
   "outputs": [
    {
     "data": {
      "text/plain": [
       "Text(0, 0.5, 'Time taken to run the code (s)')"
      ]
     },
     "execution_count": 17,
     "metadata": {},
     "output_type": "execute_result"
    },
    {
     "data": {
      "image/png": "[encoded data removed]",
      "text/plain": [
       "<Figure size 720x432 with 1 Axes>"
      ]
     },
     "metadata": {},
     "output_type": "display_data"
    }
   ],
   "source": [
    "plt.figure(figsize=(10,6))\n",
    "plt.scatter(x= avg_numba.index, y = avg_numba[\"Run time (s)\"])\n",
    "plt.xlabel(\"Number of Cores Used\")\n",
    "plt.ylabel(\"Time taken to run the code (s)\")"
   ]
  },
  {
   "cell_type": "code",
   "execution_count": 18,
   "metadata": {},
   "outputs": [],
   "source": [
    "random_df = pd.read_csv(\"Numpy/timeInfo_Random.csv\")\n",
    "serial_df = pd.read_csv(\"Numpy/timeInfo_Serial.csv\")"
   ]
  },
  {
   "cell_type": "code",
   "execution_count": null,
   "metadata": {},
   "outputs": [],
   "source": []
  }
 ],
 "metadata": {
  "kernelspec": {
   "display_name": "Python 3",
   "language": "python",
   "name": "python3"
  },
  "language_info": {
   "codemirror_mode": {
    "name": "ipython",
    "version": 3
   },
   "file_extension": ".py",
   "mimetype": "text/x-python",
   "name": "python",
   "nbconvert_exporter": "python",
   "pygments_lexer": "ipython3",
   "version": "3.6.8"
  }
 },
 "nbformat": 4,
 "nbformat_minor": 2
}
